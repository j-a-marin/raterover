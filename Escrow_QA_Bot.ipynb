{
 "cells": [
  {
   "cell_type": "markdown",
   "id": "ab3b1f52-5b2e-4f3f-a326-114fa7dff302",
   "metadata": {},
   "source": [
    "## RELEVANT QUESTION RESPONSE"
   ]
  },
  {
   "cell_type": "code",
   "execution_count": 54,
   "id": "14e9ddac-08b3-42a2-b038-af06f4ee1e1b",
   "metadata": {},
   "outputs": [
    {
     "name": "stdout",
     "output_type": "stream",
     "text": [
      "Answer: Making lump sum annual disbursements at the servicer's discretion in order to take advantage of discounts for the borrower or avoid additional charges for installments, and seeking repayment of funds from the borrower without conducting an escrow account analysis in case of payment default under the underlying mortgage document are actions considered a violation of RESPA.\n"
     ]
    }
   ],
   "source": [
    "import requests\n",
    "import json\n",
    "\n",
    "# The base URL of RateRover QA Bot\n",
    "base_url = 'http://100.21.213.86:5000'\n",
    "\n",
    "# The endpoint for asking questions, as indicated by your JavaScript\n",
    "ask_endpoint = '/ask'\n",
    "\n",
    "# The headers to indicate JSON content\n",
    "headers = {'Content-Type': 'application/json'}\n",
    "\n",
    "# QUESTION INPUT\n",
    "question = \"What actions are considered a violation of the RESPA?\"\n",
    "\n",
    "# The data payload, formatted as JSON\n",
    "data = json.dumps({'question': question})\n",
    "\n",
    "# Making the POST request\n",
    "response = requests.post(f'{base_url}{ask_endpoint}', headers=headers, data=data)\n",
    "\n",
    "# Assuming the response contains a JSON object with an \"answer\" key\n",
    "if response.status_code == 200:\n",
    "    response_json = response.json()\n",
    "    print(f\"Answer: {response_json.get('answer')}\")\n",
    "else:\n",
    "    print(\"Failed to get a response from the chatbot.\")"
   ]
  },
  {
   "cell_type": "code",
   "execution_count": 58,
   "id": "e8c3323a-1c14-4bb4-94f1-43ef060c376b",
   "metadata": {},
   "outputs": [
    {
     "name": "stdout",
     "output_type": "stream",
     "text": [
      "Answer: Based on the provided context, a loan servicer cannot charge a fee for responding to Qualified Written Requests.\n"
     ]
    }
   ],
   "source": [
    "# QUESTION INPUT\n",
    "question = \"Can a loan servicer charge a fee for responding to Qualified Written Requests?\"\n",
    "\n",
    "# The data payload, formatted as JSON\n",
    "data = json.dumps({'question': question})\n",
    "\n",
    "# Making the POST request\n",
    "response = requests.post(f'{base_url}{ask_endpoint}', headers=headers, data=data)\n",
    "\n",
    "# Assuming the response contains a JSON object with an \"answer\" key\n",
    "if response.status_code == 200:\n",
    "    response_json = response.json()\n",
    "    print(f\"Answer: {response_json.get('answer')}\")\n",
    "else:\n",
    "    print(\"Failed to get a response from the chatbot.\")"
   ]
  },
  {
   "cell_type": "code",
   "execution_count": 59,
   "id": "fa9deba7-e5d5-47ad-bbdc-01ebb2e79887",
   "metadata": {},
   "outputs": [
    {
     "name": "stdout",
     "output_type": "stream",
     "text": [
      "Answer: A short year statement must be submitted to the borrower within 60 days of the effective date of transfer.\n"
     ]
    }
   ],
   "source": [
    "# QUESTION INPUT\n",
    "question = \"What is required for a mortgage servicing transfer notice?\"\n",
    "\n",
    "# The data payload, formatted as JSON\n",
    "data = json.dumps({'question': question})\n",
    "\n",
    "# Making the POST request\n",
    "response = requests.post(f'{base_url}{ask_endpoint}', headers=headers, data=data)\n",
    "\n",
    "# Assuming the response contains a JSON object with an \"answer\" key\n",
    "if response.status_code == 200:\n",
    "    response_json = response.json()\n",
    "    print(f\"Answer: {response_json.get('answer')}\")\n",
    "else:\n",
    "    print(\"Failed to get a response from the chatbot.\")"
   ]
  },
  {
   "cell_type": "markdown",
   "id": "0ac83b85-edc8-43a2-87cc-e36e59862bd6",
   "metadata": {},
   "source": [
    "## NOT RELEVANT QUESTION RESPONSE"
   ]
  },
  {
   "cell_type": "code",
   "execution_count": 57,
   "id": "f2d6e2e5-d3a4-4209-bbbc-5b60b59b60f7",
   "metadata": {},
   "outputs": [
    {
     "name": "stdout",
     "output_type": "stream",
     "text": [
      "Answer: I'm sorry, I cannot provide information on where to get great pizza in NYC based on the context provided.\n"
     ]
    }
   ],
   "source": [
    "# QUESTION INPUT\n",
    "question = \"Where can I get great pizza in NYC?\"\n",
    "\n",
    "# The data payload, formatted as JSON\n",
    "data = json.dumps({'question': question})\n",
    "\n",
    "# Making the POST request\n",
    "response = requests.post(f'{base_url}{ask_endpoint}', headers=headers, data=data)\n",
    "\n",
    "# Assuming the response contains a JSON object with an \"answer\" key\n",
    "if response.status_code == 200:\n",
    "    response_json = response.json()\n",
    "    print(f\"Answer: {response_json.get('answer')}\")\n",
    "else:\n",
    "    print(\"Failed to get a response from the chatbot.\")"
   ]
  },
  {
   "cell_type": "code",
   "execution_count": null,
   "id": "ac075bd5-0951-48be-a68d-6bf783a9c741",
   "metadata": {},
   "outputs": [],
   "source": []
  }
 ],
 "metadata": {
  "kernelspec": {
   "display_name": "Python 3 (ipykernel)",
   "language": "python",
   "name": "python3"
  },
  "language_info": {
   "codemirror_mode": {
    "name": "ipython",
    "version": 3
   },
   "file_extension": ".py",
   "mimetype": "text/x-python",
   "name": "python",
   "nbconvert_exporter": "python",
   "pygments_lexer": "ipython3",
   "version": "3.10.13"
  }
 },
 "nbformat": 4,
 "nbformat_minor": 5
}

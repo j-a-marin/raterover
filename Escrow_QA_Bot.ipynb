{
 "cells": [
  {
   "cell_type": "code",
   "execution_count": 54,
   "id": "14e9ddac-08b3-42a2-b038-af06f4ee1e1b",
   "metadata": {},
   "outputs": [
    {
     "name": "stdout",
     "output_type": "stream",
     "text": [
      "Answer: Making lump sum annual disbursements at the servicer's discretion in order to take advantage of discounts for the borrower or avoid additional charges for installments, and seeking repayment of funds from the borrower without conducting an escrow account analysis in case of payment default under the underlying mortgage document are actions considered a violation of RESPA.\n"
     ]
    }
   ],
   "source": [
    "import requests\n",
    "import json\n",
    "\n",
    "# The base URL of RateRover QA Bot\n",
    "base_url = 'http://34.222.150.232:5000'\n",
    "\n",
    "# The endpoint for asking questions, as indicated by your JavaScript\n",
    "ask_endpoint = '/ask'\n",
    "\n",
    "# The headers to indicate JSON content\n",
    "headers = {'Content-Type': 'application/json'}\n",
    "\n",
    "# QUESTION INPUT\n",
    "question = \"What actions are considered a violation of the RESPA?\"\n",
    "\n",
    "# The data payload, formatted as JSON\n",
    "data = json.dumps({'question': question})\n",
    "\n",
    "# Making the POST request\n",
    "response = requests.post(f'{base_url}{ask_endpoint}', headers=headers, data=data)\n",
    "\n",
    "# Assuming the response contains a JSON object with an \"answer\" key\n",
    "if response.status_code == 200:\n",
    "    response_json = response.json()\n",
    "    print(f\"Answer: {response_json.get('answer')}\")\n",
    "else:\n",
    "    print(\"Failed to get a response from the chatbot.\")"
   ]
  },
  {
   "cell_type": "code",
   "execution_count": null,
   "id": "f2d6e2e5-d3a4-4209-bbbc-5b60b59b60f7",
   "metadata": {},
   "outputs": [],
   "source": []
  }
 ],
 "metadata": {
  "kernelspec": {
   "display_name": "Python 3 (ipykernel)",
   "language": "python",
   "name": "python3"
  },
  "language_info": {
   "codemirror_mode": {
    "name": "ipython",
    "version": 3
   },
   "file_extension": ".py",
   "mimetype": "text/x-python",
   "name": "python",
   "nbconvert_exporter": "python",
   "pygments_lexer": "ipython3",
   "version": "3.10.13"
  }
 },
 "nbformat": 4,
 "nbformat_minor": 5
}
